{
 "cells": [
  {
   "cell_type": "markdown",
   "metadata": {
    "colab_type": "text",
    "id": "_th7e2nu0At7"
   },
   "source": [
    "# SIT742: Modern Data Science \n",
    "**(Assessment Task 02: Bank Marketing Data Analytics)**\n",
    "\n",
    "---\n",
    "\n",
    "**Student Information:**\n",
    "\n",
    "- Name: Harshdeep Singh\n",
    "- Student ID: 218318242\n",
    "- Email:singhhars@deakin.edu.au\n",
    "---"
   ]
  },
  {
   "cell_type": "markdown",
   "metadata": {
    "colab_type": "text",
    "id": "eASNvREtBU9G"
   },
   "source": [
    "# 1.Import Spark"
   ]
  },
  {
   "cell_type": "code",
   "execution_count": 172,
   "metadata": {
    "cellView": "code",
    "colab": {
     "base_uri": "https://localhost:8080/",
     "height": 34
    },
    "colab_type": "code",
    "executionInfo": {
     "elapsed": 28791,
     "status": "ok",
     "timestamp": 1558165696727,
     "user": {
      "displayName": "Harshdeep Singh Narang",
      "photoUrl": "https://lh3.googleusercontent.com/-n0FPXsYVIPE/AAAAAAAAAAI/AAAAAAAAAEA/WWRjwrU8zCo/s64/photo.jpg",
      "userId": "01270657667223360375"
     },
     "user_tz": -600
    },
    "id": "duCJfMrnGu00",
    "outputId": "04a4e4f9-da52-40c9-a4b9-7280a7f89626"
   },
   "outputs": [
    {
     "name": "stdout",
     "output_type": "stream",
     "text": [
      "Requirement already satisfied: wget in /usr/local/lib/python3.6/dist-packages (3.2)\n"
     ]
    }
   ],
   "source": [
    "!pip install wget\n",
    "!apt-get install openjdk-8-jdk-headless -qq > /dev/null\n",
    "!wget -q https://archive.apache.org/dist/spark/spark-2.4.0/spark-2.4.0-bin-hadoop2.7.tgz\n",
    "!tar xf spark-2.4.0-bin-hadoop2.7.tgz\n",
    "!pip install -q findspark\n",
    "import os\n",
    "os.environ[\"JAVA_HOME\"] = \"/usr/lib/jvm/java-8-openjdk-amd64\"\n",
    "os.environ[\"SPARK_HOME\"] = \"/content/spark-2.4.0-bin-hadoop2.7\""
   ]
  },
  {
   "cell_type": "code",
   "execution_count": 0,
   "metadata": {
    "colab": {},
    "colab_type": "code",
    "id": "aGOo805LA-fM"
   },
   "outputs": [],
   "source": [
    "import findspark\n",
    "findspark.init()\n",
    "from pyspark.sql import SparkSession "
   ]
  },
  {
   "cell_type": "markdown",
   "metadata": {
    "colab_type": "text",
    "id": "K7bEtO_fBZmE"
   },
   "source": [
    "# 2.Read and check data"
   ]
  },
  {
   "cell_type": "code",
   "execution_count": 0,
   "metadata": {
    "colab": {},
    "colab_type": "code",
    "id": "EADPspOv0Auh"
   },
   "outputs": [],
   "source": [
    "import wget\n",
    "link_to_data = 'https://github.com/tulip-lab/sit742/raw/master/Assessment/2019/data/bank.csv'\n",
    "DataSet = wget.download(link_to_data)"
   ]
  },
  {
   "cell_type": "code",
   "execution_count": 175,
   "metadata": {
    "colab": {
     "base_uri": "https://localhost:8080/",
     "height": 170
    },
    "colab_type": "code",
    "executionInfo": {
     "elapsed": 31742,
     "status": "ok",
     "timestamp": 1558165699721,
     "user": {
      "displayName": "Harshdeep Singh Narang",
      "photoUrl": "https://lh3.googleusercontent.com/-n0FPXsYVIPE/AAAAAAAAAAI/AAAAAAAAAEA/WWRjwrU8zCo/s64/photo.jpg",
      "userId": "01270657667223360375"
     },
     "user_tz": -600
    },
    "id": "tiM-PiiR0Aup",
    "outputId": "0d62672b-7b99-4427-f23b-f1fd3db35711"
   },
   "outputs": [
    {
     "name": "stdout",
     "output_type": "stream",
     "text": [
      "'bank (1).csv'\t\t     spark-2.4.0-bin-hadoop2.7.tgz\n",
      "'bank (2).csv'\t\t     spark-2.4.0-bin-hadoop2.7.tgz.1\n",
      "'bank (3).csv'\t\t     spark-2.4.0-bin-hadoop2.7.tgz.2\n",
      "'bank (4).csv'\t\t     spark-2.4.0-bin-hadoop2.7.tgz.3\n",
      "'bank (5).csv'\t\t     spark-2.4.0-bin-hadoop2.7.tgz.4\n",
      "'bank (6).csv'\t\t     spark-2.4.0-bin-hadoop2.7.tgz.5\n",
      " bank.csv\t\t     spark-2.4.0-bin-hadoop2.7.tgz.6\n",
      " sample_data\t\t     spark-warehouse\n",
      " spark-2.4.0-bin-hadoop2.7\n"
     ]
    }
   ],
   "source": [
    "!ls"
   ]
  },
  {
   "cell_type": "code",
   "execution_count": 176,
   "metadata": {
    "colab": {
     "base_uri": "https://localhost:8080/",
     "height": 527
    },
    "colab_type": "code",
    "executionInfo": {
     "elapsed": 32059,
     "status": "ok",
     "timestamp": 1558165700069,
     "user": {
      "displayName": "Harshdeep Singh Narang",
      "photoUrl": "https://lh3.googleusercontent.com/-n0FPXsYVIPE/AAAAAAAAAAI/AAAAAAAAAEA/WWRjwrU8zCo/s64/photo.jpg",
      "userId": "01270657667223360375"
     },
     "user_tz": -600
    },
    "id": "FQ8Ts9eZBA-M",
    "outputId": "805fa915-3fef-4cc3-aae5-a5ac9692f058"
   },
   "outputs": [
    {
     "name": "stdout",
     "output_type": "stream",
     "text": [
      "root\n",
      " |-- age: integer (nullable = true)\n",
      " |-- job: string (nullable = true)\n",
      " |-- marital: string (nullable = true)\n",
      " |-- education: string (nullable = true)\n",
      " |-- default: string (nullable = true)\n",
      " |-- balance: integer (nullable = true)\n",
      " |-- housing: string (nullable = true)\n",
      " |-- loan: string (nullable = true)\n",
      " |-- contact: string (nullable = true)\n",
      " |-- day: integer (nullable = true)\n",
      " |-- month: string (nullable = true)\n",
      " |-- duration: integer (nullable = true)\n",
      " |-- campaign: integer (nullable = true)\n",
      " |-- pdays: integer (nullable = true)\n",
      " |-- previous: integer (nullable = true)\n",
      " |-- poutcome: string (nullable = true)\n",
      " |-- deposit: string (nullable = true)\n",
      "\n",
      "+---+----------+-------+---------+-------+-------+-------+----+-------+---+-----+--------+--------+-----+--------+--------+-------+\n",
      "|age|       job|marital|education|default|balance|housing|loan|contact|day|month|duration|campaign|pdays|previous|poutcome|deposit|\n",
      "+---+----------+-------+---------+-------+-------+-------+----+-------+---+-----+--------+--------+-----+--------+--------+-------+\n",
      "| 59|    admin.|married|secondary|     no|   2343|    yes|  no|unknown|  5|  may|    1042|       1|   -1|       0| unknown|    yes|\n",
      "| 56|    admin.|married|secondary|     no|     45|     no|  no|unknown|  5|  may|    1467|       1|   -1|       0| unknown|    yes|\n",
      "| 41|technician|married|secondary|     no|   1270|    yes|  no|unknown|  5|  may|    1389|       1|   -1|       0| unknown|    yes|\n",
      "| 55|  services|married|secondary|     no|   2476|    yes|  no|unknown|  5|  may|     579|       1|   -1|       0| unknown|    yes|\n",
      "| 54|    admin.|married| tertiary|     no|    184|     no|  no|unknown|  5|  may|     673|       2|   -1|       0| unknown|    yes|\n",
      "+---+----------+-------+---------+-------+-------+-------+----+-------+---+-----+--------+--------+-----+--------+--------+-------+\n",
      "only showing top 5 rows\n",
      "\n"
     ]
    }
   ],
   "source": [
    "# Import the 'bank.csv' as a Spark dataframe and name it as df\n",
    "spark = SparkSession.builder.appName('ml-bank').getOrCreate()\n",
    "df = spark.read.csv('bank.csv', header = True, inferSchema = True) \n",
    "df.printSchema() \n",
    "df.show(5)"
   ]
  },
  {
   "cell_type": "code",
   "execution_count": 177,
   "metadata": {
    "colab": {
     "base_uri": "https://localhost:8080/",
     "height": 297
    },
    "colab_type": "code",
    "executionInfo": {
     "elapsed": 32330,
     "status": "ok",
     "timestamp": 1558165700360,
     "user": {
      "displayName": "Harshdeep Singh Narang",
      "photoUrl": "https://lh3.googleusercontent.com/-n0FPXsYVIPE/AAAAAAAAAAI/AAAAAAAAAEA/WWRjwrU8zCo/s64/photo.jpg",
      "userId": "01270657667223360375"
     },
     "user_tz": -600
    },
    "id": "XJGWVc0yB0UA",
    "outputId": "8e34e28a-c571-4451-be2c-b7649981ef59"
   },
   "outputs": [
    {
     "data": {
      "text/html": [
       "<div>\n",
       "<style scoped>\n",
       "    .dataframe tbody tr th:only-of-type {\n",
       "        vertical-align: middle;\n",
       "    }\n",
       "\n",
       "    .dataframe tbody tr th {\n",
       "        vertical-align: top;\n",
       "    }\n",
       "\n",
       "    .dataframe thead th {\n",
       "        text-align: right;\n",
       "    }\n",
       "</style>\n",
       "<table border=\"1\" class=\"dataframe\">\n",
       "  <thead>\n",
       "    <tr style=\"text-align: right;\">\n",
       "      <th></th>\n",
       "      <th>0</th>\n",
       "      <th>1</th>\n",
       "      <th>2</th>\n",
       "      <th>3</th>\n",
       "      <th>4</th>\n",
       "    </tr>\n",
       "  </thead>\n",
       "  <tbody>\n",
       "    <tr>\n",
       "      <th>summary</th>\n",
       "      <td>count</td>\n",
       "      <td>mean</td>\n",
       "      <td>stddev</td>\n",
       "      <td>min</td>\n",
       "      <td>max</td>\n",
       "    </tr>\n",
       "    <tr>\n",
       "      <th>age</th>\n",
       "      <td>11162</td>\n",
       "      <td>41.231947679627304</td>\n",
       "      <td>11.913369192215518</td>\n",
       "      <td>18</td>\n",
       "      <td>95</td>\n",
       "    </tr>\n",
       "    <tr>\n",
       "      <th>balance</th>\n",
       "      <td>11162</td>\n",
       "      <td>1528.5385235620856</td>\n",
       "      <td>3225.413325946149</td>\n",
       "      <td>-6847</td>\n",
       "      <td>81204</td>\n",
       "    </tr>\n",
       "    <tr>\n",
       "      <th>day</th>\n",
       "      <td>11162</td>\n",
       "      <td>15.658036194230425</td>\n",
       "      <td>8.420739541006462</td>\n",
       "      <td>1</td>\n",
       "      <td>31</td>\n",
       "    </tr>\n",
       "    <tr>\n",
       "      <th>duration</th>\n",
       "      <td>11162</td>\n",
       "      <td>371.99381831213043</td>\n",
       "      <td>347.12838571630687</td>\n",
       "      <td>2</td>\n",
       "      <td>3881</td>\n",
       "    </tr>\n",
       "    <tr>\n",
       "      <th>campaign</th>\n",
       "      <td>11162</td>\n",
       "      <td>2.508421429851281</td>\n",
       "      <td>2.7220771816614824</td>\n",
       "      <td>1</td>\n",
       "      <td>63</td>\n",
       "    </tr>\n",
       "    <tr>\n",
       "      <th>pdays</th>\n",
       "      <td>11162</td>\n",
       "      <td>51.33040673714388</td>\n",
       "      <td>108.75828197197717</td>\n",
       "      <td>-1</td>\n",
       "      <td>854</td>\n",
       "    </tr>\n",
       "    <tr>\n",
       "      <th>previous</th>\n",
       "      <td>11162</td>\n",
       "      <td>0.8325568894463358</td>\n",
       "      <td>2.292007218670508</td>\n",
       "      <td>0</td>\n",
       "      <td>58</td>\n",
       "    </tr>\n",
       "  </tbody>\n",
       "</table>\n",
       "</div>"
      ],
      "text/plain": [
       "              0                   1                   2      3      4\n",
       "summary   count                mean              stddev    min    max\n",
       "age       11162  41.231947679627304  11.913369192215518     18     95\n",
       "balance   11162  1528.5385235620856   3225.413325946149  -6847  81204\n",
       "day       11162  15.658036194230425   8.420739541006462      1     31\n",
       "duration  11162  371.99381831213043  347.12838571630687      2   3881\n",
       "campaign  11162   2.508421429851281  2.7220771816614824      1     63\n",
       "pdays     11162   51.33040673714388  108.75828197197717     -1    854\n",
       "previous  11162  0.8325568894463358   2.292007218670508      0     58"
      ]
     },
     "execution_count": 177,
     "metadata": {
      "tags": []
     },
     "output_type": "execute_result"
    }
   ],
   "source": [
    "# Checking data distribution of Numerical Variables\n",
    " \n",
    "from pyspark.sql import functions as f\n",
    "\n",
    "numericFeatures = [t[0] for t in df.dtypes if t[1] == 'int']\n",
    "df.select(numericFeatures).describe().toPandas().transpose()"
   ]
  },
  {
   "cell_type": "code",
   "execution_count": 178,
   "metadata": {
    "colab": {
     "base_uri": "https://localhost:8080/",
     "height": 731
    },
    "colab_type": "code",
    "executionInfo": {
     "elapsed": 33315,
     "status": "ok",
     "timestamp": 1558165701376,
     "user": {
      "displayName": "Harshdeep Singh Narang",
      "photoUrl": "https://lh3.googleusercontent.com/-n0FPXsYVIPE/AAAAAAAAAAI/AAAAAAAAAEA/WWRjwrU8zCo/s64/photo.jpg",
      "userId": "01270657667223360375"
     },
     "user_tz": -600
    },
    "id": "Z5QpSFywdKc8",
    "outputId": "d88d1c96-cdd1-4dc4-f0a6-e698857f9e62"
   },
   "outputs": [
    {
     "name": "stdout",
     "output_type": "stream",
     "text": [
      "+------------------+\n",
      "|     skewness(age)|\n",
      "+------------------+\n",
      "|0.8626636888266418|\n",
      "+------------------+\n",
      "\n",
      "+-----------------+\n",
      "|skewness(balance)|\n",
      "+-----------------+\n",
      "|8.223513810011973|\n",
      "+-----------------+\n",
      "\n",
      "+-------------------+\n",
      "|      skewness(day)|\n",
      "+-------------------+\n",
      "|0.11131497345861753|\n",
      "+-------------------+\n",
      "\n",
      "+------------------+\n",
      "|skewness(duration)|\n",
      "+------------------+\n",
      "|2.1434064798758596|\n",
      "+------------------+\n",
      "\n",
      "+------------------+\n",
      "|skewness(campaign)|\n",
      "+------------------+\n",
      "| 5.544833172113716|\n",
      "+------------------+\n",
      "\n",
      "+-----------------+\n",
      "|  skewness(pdays)|\n",
      "+-----------------+\n",
      "|2.449656381764177|\n",
      "+-----------------+\n",
      "\n",
      "+------------------+\n",
      "|skewness(previous)|\n",
      "+------------------+\n",
      "| 7.334312390838408|\n",
      "+------------------+\n",
      "\n"
     ]
    }
   ],
   "source": [
    "#checking skewness of each numerical variable\n",
    "\n",
    "df.select(numericFeatures).agg(f.skewness(numericFeatures[0])).show()\n",
    "df.select(numericFeatures).agg(f.skewness(numericFeatures[1])).show()\n",
    "df.select(numericFeatures).agg(f.skewness(numericFeatures[2])).show()\n",
    "df.select(numericFeatures).agg(f.skewness(numericFeatures[3])).show()\n",
    "df.select(numericFeatures).agg(f.skewness(numericFeatures[4])).show()\n",
    "df.select(numericFeatures).agg(f.skewness(numericFeatures[5])).show()\n",
    "df.select(numericFeatures).agg(f.skewness(numericFeatures[6])).show()"
   ]
  },
  {
   "cell_type": "code",
   "execution_count": 179,
   "metadata": {
    "colab": {
     "base_uri": "https://localhost:8080/",
     "height": 1972
    },
    "colab_type": "code",
    "executionInfo": {
     "elapsed": 39896,
     "status": "ok",
     "timestamp": 1558165707992,
     "user": {
      "displayName": "Harshdeep Singh Narang",
      "photoUrl": "https://lh3.googleusercontent.com/-n0FPXsYVIPE/AAAAAAAAAAI/AAAAAAAAAEA/WWRjwrU8zCo/s64/photo.jpg",
      "userId": "01270657667223360375"
     },
     "user_tz": -600
    },
    "id": "iGPW5SYYjTDa",
    "outputId": "e7ca179c-8f7b-4749-a929-fd05d4bdbfd7"
   },
   "outputs": [
    {
     "name": "stdout",
     "output_type": "stream",
     "text": [
      "+-------------+-----+\n",
      "|          job|count|\n",
      "+-------------+-----+\n",
      "|   management| 2566|\n",
      "|      retired|  778|\n",
      "|      unknown|   70|\n",
      "|self-employed|  405|\n",
      "|      student|  360|\n",
      "|  blue-collar| 1944|\n",
      "| entrepreneur|  328|\n",
      "|       admin.| 1334|\n",
      "|   technician| 1823|\n",
      "|     services|  923|\n",
      "|    housemaid|  274|\n",
      "|   unemployed|  357|\n",
      "+-------------+-----+\n",
      "\n",
      "+--------+-----+\n",
      "| marital|count|\n",
      "+--------+-----+\n",
      "|divorced| 1293|\n",
      "| married| 6351|\n",
      "|  single| 3518|\n",
      "+--------+-----+\n",
      "\n",
      "+---------+-----+\n",
      "|education|count|\n",
      "+---------+-----+\n",
      "|  unknown|  497|\n",
      "| tertiary| 3689|\n",
      "|secondary| 5476|\n",
      "|  primary| 1500|\n",
      "+---------+-----+\n",
      "\n",
      "+-------+-----+\n",
      "|default|count|\n",
      "+-------+-----+\n",
      "|     no|10994|\n",
      "|    yes|  168|\n",
      "+-------+-----+\n",
      "\n",
      "+-------+-----+\n",
      "|housing|count|\n",
      "+-------+-----+\n",
      "|     no| 5881|\n",
      "|    yes| 5281|\n",
      "+-------+-----+\n",
      "\n",
      "+----+-----+\n",
      "|loan|count|\n",
      "+----+-----+\n",
      "|  no| 9702|\n",
      "| yes| 1460|\n",
      "+----+-----+\n",
      "\n",
      "+---------+-----+\n",
      "|  contact|count|\n",
      "+---------+-----+\n",
      "|  unknown| 2346|\n",
      "| cellular| 8042|\n",
      "|telephone|  774|\n",
      "+---------+-----+\n",
      "\n",
      "+---+-----+\n",
      "|day|count|\n",
      "+---+-----+\n",
      "| 31|  140|\n",
      "| 28|  410|\n",
      "| 26|  252|\n",
      "| 27|  284|\n",
      "| 12|  445|\n",
      "| 22|  269|\n",
      "|  1|  122|\n",
      "| 13|  453|\n",
      "|  6|  447|\n",
      "| 16|  369|\n",
      "|  3|  306|\n",
      "| 20|  570|\n",
      "|  5|  477|\n",
      "| 19|  384|\n",
      "| 15|  466|\n",
      "|  9|  364|\n",
      "| 17|  411|\n",
      "|  4|  402|\n",
      "|  8|  419|\n",
      "| 23|  245|\n",
      "+---+-----+\n",
      "only showing top 20 rows\n",
      "\n",
      "+-----+-----+\n",
      "|month|count|\n",
      "+-----+-----+\n",
      "|  jun| 1222|\n",
      "|  aug| 1519|\n",
      "|  may| 2824|\n",
      "|  feb|  776|\n",
      "|  sep|  319|\n",
      "|  mar|  276|\n",
      "|  oct|  392|\n",
      "|  jul| 1514|\n",
      "|  nov|  943|\n",
      "|  apr|  923|\n",
      "|  dec|  110|\n",
      "|  jan|  344|\n",
      "+-----+-----+\n",
      "\n",
      "+--------+-----+\n",
      "|poutcome|count|\n",
      "+--------+-----+\n",
      "| success| 1071|\n",
      "| unknown| 8326|\n",
      "|   other|  537|\n",
      "| failure| 1228|\n",
      "+--------+-----+\n",
      "\n"
     ]
    }
   ],
   "source": [
    "# Checking data sistribution of categorical variables\n",
    "\n",
    "df.groupby('job').count().show()\n",
    "df.groupby('marital').count().show()\n",
    "df.groupby('education').count().show()\n",
    "df.groupby('default').count().show()\n",
    "df.groupby('housing').count().show()\n",
    "df.groupby('loan').count().show()\n",
    "df.groupby('contact').count().show()\n",
    "df.groupby('day').count().show()\n",
    "df.groupby('month').count().show()\n",
    "df.groupby('poutcome').count().show()"
   ]
  },
  {
   "cell_type": "markdown",
   "metadata": {
    "colab_type": "text",
    "id": "wKQMhrtFChHa"
   },
   "source": [
    "# 3.Select features"
   ]
  },
  {
   "cell_type": "code",
   "execution_count": 180,
   "metadata": {
    "colab": {
     "base_uri": "https://localhost:8080/",
     "height": 204
    },
    "colab_type": "code",
    "executionInfo": {
     "elapsed": 39876,
     "status": "ok",
     "timestamp": 1558165707997,
     "user": {
      "displayName": "Harshdeep Singh Narang",
      "photoUrl": "https://lh3.googleusercontent.com/-n0FPXsYVIPE/AAAAAAAAAAI/AAAAAAAAAEA/WWRjwrU8zCo/s64/photo.jpg",
      "userId": "01270657667223360375"
     },
     "user_tz": -600
    },
    "id": "VU5xMqN_RyM2",
    "outputId": "c1daa552-7a45-458c-88d5-f0a04a9b13f3"
   },
   "outputs": [
    {
     "name": "stdout",
     "output_type": "stream",
     "text": [
      "+---+----------+-------+---------+-------+-------+-------+----+--------+-----+--------+--------+-------+\n",
      "|age|       job|marital|education|default|balance|housing|loan|campaign|pdays|previous|poutcome|deposit|\n",
      "+---+----------+-------+---------+-------+-------+-------+----+--------+-----+--------+--------+-------+\n",
      "| 59|    admin.|married|secondary|     no|   2343|    yes|  no|       1|   -1|       0| unknown|    yes|\n",
      "| 56|    admin.|married|secondary|     no|     45|     no|  no|       1|   -1|       0| unknown|    yes|\n",
      "| 41|technician|married|secondary|     no|   1270|    yes|  no|       1|   -1|       0| unknown|    yes|\n",
      "| 55|  services|married|secondary|     no|   2476|    yes|  no|       1|   -1|       0| unknown|    yes|\n",
      "| 54|    admin.|married| tertiary|     no|    184|     no|  no|       2|   -1|       0| unknown|    yes|\n",
      "+---+----------+-------+---------+-------+-------+-------+----+--------+-----+--------+--------+-------+\n",
      "only showing top 5 rows\n",
      "\n"
     ]
    }
   ],
   "source": [
    "\n",
    "#Select features ('age', 'job', 'marital', 'education', 'default', 'balance', 'housing', 'loan', 'campaign', 'pdays', 'previous', 'poutcome', 'deposit') as df2\n",
    "df2= df.select('age', 'job', 'marital', 'education', 'default', 'balance', 'housing', 'loan', 'campaign', 'pdays', 'previous', 'poutcome','deposit')\n",
    "cols = df2.columns\n",
    "df2.show(5)"
   ]
  },
  {
   "cell_type": "code",
   "execution_count": 181,
   "metadata": {
    "colab": {
     "base_uri": "https://localhost:8080/",
     "height": 34
    },
    "colab_type": "code",
    "executionInfo": {
     "elapsed": 39855,
     "status": "ok",
     "timestamp": 1558165707998,
     "user": {
      "displayName": "Harshdeep Singh Narang",
      "photoUrl": "https://lh3.googleusercontent.com/-n0FPXsYVIPE/AAAAAAAAAAI/AAAAAAAAAEA/WWRjwrU8zCo/s64/photo.jpg",
      "userId": "01270657667223360375"
     },
     "user_tz": -600
    },
    "id": "45jhBdG07fa5",
    "outputId": "b88dfb88-fb26-4f1c-80bb-4f58fd1f7ce7"
   },
   "outputs": [
    {
     "data": {
      "text/plain": [
       "11162"
      ]
     },
     "execution_count": 181,
     "metadata": {
      "tags": []
     },
     "output_type": "execute_result"
    }
   ],
   "source": [
    "df2.count()  # 11162 rows before filtering"
   ]
  },
  {
   "cell_type": "code",
   "execution_count": 0,
   "metadata": {
    "colab": {},
    "colab_type": "code",
    "id": "vwF5sqRYa_eI"
   },
   "outputs": [],
   "source": [
    "\n",
    "#Remove invalid rows/records using spark.sql \n",
    "from pyspark import SparkContext\n",
    "sc = SparkContext.getOrCreate()\n",
    "\n",
    "from pyspark.sql import SQLContext\n",
    "\n",
    "sqlContext = SQLContext(sc)\n",
    "\n",
    "df2.registerTempTable(\"bank\")\n",
    "\n",
    "df2 = sqlContext.sql(\"SELECT * FROM bank WHERE job!= 'unknown' AND education!= 'unknown' AND poutcome!= 'unknown'AND poutcome!= 'other' and pdays>=0 \")"
   ]
  },
  {
   "cell_type": "code",
   "execution_count": 183,
   "metadata": {
    "colab": {
     "base_uri": "https://localhost:8080/",
     "height": 34
    },
    "colab_type": "code",
    "executionInfo": {
     "elapsed": 39831,
     "status": "ok",
     "timestamp": 1558165708003,
     "user": {
      "displayName": "Harshdeep Singh Narang",
      "photoUrl": "https://lh3.googleusercontent.com/-n0FPXsYVIPE/AAAAAAAAAAI/AAAAAAAAAEA/WWRjwrU8zCo/s64/photo.jpg",
      "userId": "01270657667223360375"
     },
     "user_tz": -600
    },
    "id": "wv0W7q0I9w0b",
    "outputId": "753cc949-5dac-4740-e3ad-27e5d8ea8f76"
   },
   "outputs": [
    {
     "data": {
      "text/plain": [
       "2181"
      ]
     },
     "execution_count": 183,
     "metadata": {
      "tags": []
     },
     "output_type": "execute_result"
    }
   ],
   "source": [
    "\n",
    "df2.count()   #2181 rows after filtering"
   ]
  },
  {
   "cell_type": "code",
   "execution_count": 0,
   "metadata": {
    "colab": {},
    "colab_type": "code",
    "id": "4dTwu0aj9ygI"
   },
   "outputs": [],
   "source": [
    "categoricalColumns = ['job','marital','education','default','housing','loan','poutcome']    # categorical columns in dataframe"
   ]
  },
  {
   "cell_type": "code",
   "execution_count": 0,
   "metadata": {
    "colab": {},
    "colab_type": "code",
    "id": "Dh94G1Wpzwlf"
   },
   "outputs": [],
   "source": [
    "#Covert categorical features to metric features using One hot encoding\n",
    "from pyspark.ml.feature import OneHotEncoderEstimator, StringIndexer, VectorAssembler\n",
    "stages = []\n",
    "for categoricalCol in categoricalColumns:\n",
    "    stringIndexer = StringIndexer(inputCol = categoricalCol, outputCol = categoricalCol + 'Index')\n",
    "    encoder = OneHotEncoderEstimator(inputCols=[stringIndexer.getOutputCol()], outputCols=[categoricalCol + \"classVec\"])\n",
    "    stages += [stringIndexer, encoder]\n",
    "label_stringIdx = StringIndexer(inputCol = 'deposit', outputCol = 'label')\n",
    "stages += [label_stringIdx]\n",
    "numericCols = ['age', 'balance', 'campaign', 'pdays', 'previous']\n",
    "assemblerInputs = [c + \"classVec\" for c in categoricalColumns] + numericCols\n",
    "assembler = VectorAssembler(inputCols=assemblerInputs, outputCol=\"features\")\n",
    "stages += [assembler]"
   ]
  },
  {
   "cell_type": "code",
   "execution_count": 186,
   "metadata": {
    "colab": {
     "base_uri": "https://localhost:8080/",
     "height": 578
    },
    "colab_type": "code",
    "executionInfo": {
     "elapsed": 41334,
     "status": "ok",
     "timestamp": 1558165709529,
     "user": {
      "displayName": "Harshdeep Singh Narang",
      "photoUrl": "https://lh3.googleusercontent.com/-n0FPXsYVIPE/AAAAAAAAAAI/AAAAAAAAAEA/WWRjwrU8zCo/s64/photo.jpg",
      "userId": "01270657667223360375"
     },
     "user_tz": -600
    },
    "id": "vuBvLKrizww9",
    "outputId": "57ed56a0-2dfe-4f08-8d8e-7f527e10a655"
   },
   "outputs": [
    {
     "name": "stdout",
     "output_type": "stream",
     "text": [
      "root\n",
      " |-- label: double (nullable = false)\n",
      " |-- features: vector (nullable = true)\n",
      " |-- age: integer (nullable = true)\n",
      " |-- job: string (nullable = true)\n",
      " |-- marital: string (nullable = true)\n",
      " |-- education: string (nullable = true)\n",
      " |-- default: string (nullable = true)\n",
      " |-- balance: integer (nullable = true)\n",
      " |-- housing: string (nullable = true)\n",
      " |-- loan: string (nullable = true)\n",
      " |-- campaign: integer (nullable = true)\n",
      " |-- pdays: integer (nullable = true)\n",
      " |-- previous: integer (nullable = true)\n",
      " |-- poutcome: string (nullable = true)\n",
      " |-- deposit: string (nullable = true)\n",
      "\n"
     ]
    },
    {
     "data": {
      "text/html": [
       "<div>\n",
       "<style scoped>\n",
       "    .dataframe tbody tr th:only-of-type {\n",
       "        vertical-align: middle;\n",
       "    }\n",
       "\n",
       "    .dataframe tbody tr th {\n",
       "        vertical-align: top;\n",
       "    }\n",
       "\n",
       "    .dataframe thead th {\n",
       "        text-align: right;\n",
       "    }\n",
       "</style>\n",
       "<table border=\"1\" class=\"dataframe\">\n",
       "  <thead>\n",
       "    <tr style=\"text-align: right;\">\n",
       "      <th></th>\n",
       "      <th>label</th>\n",
       "      <th>features</th>\n",
       "      <th>age</th>\n",
       "      <th>job</th>\n",
       "      <th>marital</th>\n",
       "      <th>education</th>\n",
       "      <th>default</th>\n",
       "      <th>balance</th>\n",
       "      <th>housing</th>\n",
       "      <th>loan</th>\n",
       "      <th>campaign</th>\n",
       "      <th>pdays</th>\n",
       "      <th>previous</th>\n",
       "      <th>poutcome</th>\n",
       "      <th>deposit</th>\n",
       "    </tr>\n",
       "  </thead>\n",
       "  <tbody>\n",
       "    <tr>\n",
       "      <th>0</th>\n",
       "      <td>0.0</td>\n",
       "      <td>(0.0, 0.0, 0.0, 0.0, 0.0, 1.0, 0.0, 0.0, 0.0, ...</td>\n",
       "      <td>33</td>\n",
       "      <td>services</td>\n",
       "      <td>married</td>\n",
       "      <td>secondary</td>\n",
       "      <td>no</td>\n",
       "      <td>3444</td>\n",
       "      <td>yes</td>\n",
       "      <td>no</td>\n",
       "      <td>1</td>\n",
       "      <td>91</td>\n",
       "      <td>4</td>\n",
       "      <td>failure</td>\n",
       "      <td>yes</td>\n",
       "    </tr>\n",
       "    <tr>\n",
       "      <th>1</th>\n",
       "      <td>0.0</td>\n",
       "      <td>(0.0, 1.0, 0.0, 0.0, 0.0, 0.0, 0.0, 0.0, 0.0, ...</td>\n",
       "      <td>56</td>\n",
       "      <td>technician</td>\n",
       "      <td>married</td>\n",
       "      <td>secondary</td>\n",
       "      <td>no</td>\n",
       "      <td>589</td>\n",
       "      <td>yes</td>\n",
       "      <td>no</td>\n",
       "      <td>1</td>\n",
       "      <td>147</td>\n",
       "      <td>2</td>\n",
       "      <td>success</td>\n",
       "      <td>yes</td>\n",
       "    </tr>\n",
       "    <tr>\n",
       "      <th>2</th>\n",
       "      <td>0.0</td>\n",
       "      <td>(0.0, 0.0, 1.0, 0.0, 0.0, 0.0, 0.0, 0.0, 0.0, ...</td>\n",
       "      <td>34</td>\n",
       "      <td>admin.</td>\n",
       "      <td>married</td>\n",
       "      <td>tertiary</td>\n",
       "      <td>no</td>\n",
       "      <td>899</td>\n",
       "      <td>yes</td>\n",
       "      <td>no</td>\n",
       "      <td>1</td>\n",
       "      <td>170</td>\n",
       "      <td>3</td>\n",
       "      <td>failure</td>\n",
       "      <td>yes</td>\n",
       "    </tr>\n",
       "    <tr>\n",
       "      <th>3</th>\n",
       "      <td>0.0</td>\n",
       "      <td>(0.0, 0.0, 0.0, 0.0, 1.0, 0.0, 0.0, 0.0, 0.0, ...</td>\n",
       "      <td>53</td>\n",
       "      <td>retired</td>\n",
       "      <td>married</td>\n",
       "      <td>tertiary</td>\n",
       "      <td>no</td>\n",
       "      <td>2269</td>\n",
       "      <td>no</td>\n",
       "      <td>no</td>\n",
       "      <td>2</td>\n",
       "      <td>150</td>\n",
       "      <td>1</td>\n",
       "      <td>success</td>\n",
       "      <td>yes</td>\n",
       "    </tr>\n",
       "    <tr>\n",
       "      <th>4</th>\n",
       "      <td>0.0</td>\n",
       "      <td>(0.0, 1.0, 0.0, 0.0, 0.0, 0.0, 0.0, 0.0, 0.0, ...</td>\n",
       "      <td>37</td>\n",
       "      <td>technician</td>\n",
       "      <td>married</td>\n",
       "      <td>secondary</td>\n",
       "      <td>no</td>\n",
       "      <td>5115</td>\n",
       "      <td>yes</td>\n",
       "      <td>no</td>\n",
       "      <td>2</td>\n",
       "      <td>171</td>\n",
       "      <td>4</td>\n",
       "      <td>failure</td>\n",
       "      <td>yes</td>\n",
       "    </tr>\n",
       "  </tbody>\n",
       "</table>\n",
       "</div>"
      ],
      "text/plain": [
       "   label                                           features  ...  poutcome deposit\n",
       "0    0.0  (0.0, 0.0, 0.0, 0.0, 0.0, 1.0, 0.0, 0.0, 0.0, ...  ...   failure     yes\n",
       "1    0.0  (0.0, 1.0, 0.0, 0.0, 0.0, 0.0, 0.0, 0.0, 0.0, ...  ...   success     yes\n",
       "2    0.0  (0.0, 0.0, 1.0, 0.0, 0.0, 0.0, 0.0, 0.0, 0.0, ...  ...   failure     yes\n",
       "3    0.0  (0.0, 0.0, 0.0, 0.0, 1.0, 0.0, 0.0, 0.0, 0.0, ...  ...   success     yes\n",
       "4    0.0  (0.0, 1.0, 0.0, 0.0, 0.0, 0.0, 0.0, 0.0, 0.0, ...  ...   failure     yes\n",
       "\n",
       "[5 rows x 15 columns]"
      ]
     },
     "execution_count": 186,
     "metadata": {
      "tags": []
     },
     "output_type": "execute_result"
    }
   ],
   "source": [
    "import pandas as pd\n",
    "from pyspark.ml import Pipeline\n",
    "pipeline = Pipeline(stages = stages)\n",
    "pipelineModel = pipeline.fit(df2)\n",
    "df2 = pipelineModel.transform(df2)\n",
    "selectedCols = ['label', 'features'] + cols\n",
    "df2 = df2.select(selectedCols)\n",
    "df2.printSchema()\n",
    "pd.DataFrame(df2.take(5), columns=df2.columns)\n"
   ]
  },
  {
   "cell_type": "code",
   "execution_count": 187,
   "metadata": {
    "colab": {
     "base_uri": "https://localhost:8080/",
     "height": 204
    },
    "colab_type": "code",
    "executionInfo": {
     "elapsed": 41318,
     "status": "ok",
     "timestamp": 1558165709532,
     "user": {
      "displayName": "Harshdeep Singh Narang",
      "photoUrl": "https://lh3.googleusercontent.com/-n0FPXsYVIPE/AAAAAAAAAAI/AAAAAAAAAEA/WWRjwrU8zCo/s64/photo.jpg",
      "userId": "01270657667223360375"
     },
     "user_tz": -600
    },
    "id": "YSC9dGfM7BC3",
    "outputId": "cdcb81fa-1ea3-44f4-9114-f04282ededfe"
   },
   "outputs": [
    {
     "name": "stdout",
     "output_type": "stream",
     "text": [
      "+--------------------+\n",
      "|            features|\n",
      "+--------------------+\n",
      "|(23,[5,10,12,14,1...|\n",
      "|(23,[1,10,12,14,1...|\n",
      "|(23,[2,10,13,14,1...|\n",
      "|(23,[4,10,13,14,1...|\n",
      "|(23,[1,10,12,14,1...|\n",
      "+--------------------+\n",
      "only showing top 5 rows\n",
      "\n"
     ]
    }
   ],
   "source": [
    "df2.select('features').show(5)  # each feature row contain sparse vector with 23 features"
   ]
  },
  {
   "cell_type": "markdown",
   "metadata": {
    "colab_type": "text",
    "id": "pOqHERYJCQuC"
   },
   "source": [
    "## 3.1 normalisation"
   ]
  },
  {
   "cell_type": "code",
   "execution_count": 0,
   "metadata": {
    "colab": {},
    "colab_type": "code",
    "id": "cfL6_sca5VwI"
   },
   "outputs": [],
   "source": [
    "#Apply Min-Max normalisation on each attribute using MinMaxScaler  \n",
    "from pyspark.ml.feature import MinMaxScaler \n",
    "\n",
    "scaler = MinMaxScaler(inputCol=\"features\", outputCol=\"scaledFeatures\")\n",
    "\n",
    "scalerModel = scaler.fit(df2)\n",
    "\n",
    "# rescale each feature to range [min, max].\n",
    "scaledData = scalerModel.transform(df2)\n",
    "\n"
   ]
  },
  {
   "cell_type": "markdown",
   "metadata": {
    "colab_type": "text",
    "id": "9trUY7ZgCzhW"
   },
   "source": [
    "# 4.Unsupervised learning"
   ]
  },
  {
   "cell_type": "markdown",
   "metadata": {
    "colab_type": "text",
    "id": "KTQfUch2Cmmi"
   },
   "source": [
    "## 4.1 K-means"
   ]
  },
  {
   "cell_type": "code",
   "execution_count": 189,
   "metadata": {
    "colab": {
     "base_uri": "https://localhost:8080/",
     "height": 187
    },
    "colab_type": "code",
    "executionInfo": {
     "elapsed": 44654,
     "status": "ok",
     "timestamp": 1558165712888,
     "user": {
      "displayName": "Harshdeep Singh Narang",
      "photoUrl": "https://lh3.googleusercontent.com/-n0FPXsYVIPE/AAAAAAAAAAI/AAAAAAAAAEA/WWRjwrU8zCo/s64/photo.jpg",
      "userId": "01270657667223360375"
     },
     "user_tz": -600
    },
    "id": "WVQI4MigObQU",
    "outputId": "670ef0ae-be1b-4174-c2c8-751d6ee87a8f"
   },
   "outputs": [
    {
     "name": "stdout",
     "output_type": "stream",
     "text": [
      "Silhouette with squared euclidean distance = 0.06039474174824377\n",
      "Cluster Centers: \n",
      "[0.57541899 0.13184358 0.0603352  0.01340782 0.04804469 0.00782123\n",
      " 0.03575419 0.03575419 0.0603352  0.01675978 0.47486034 0.45027933\n",
      " 0.         0.97094972 0.99776536 0.62569832 0.92625698 0.48826816\n",
      " 0.31088587 0.03688247 0.07516506 0.21330303 0.03718187]\n",
      "[0.0311042  0.18351477 0.19906687 0.20139969 0.11897356 0.11508554\n",
      " 0.04821151 0.04276827 0.0155521  0.02177294 0.62908243 0.26360809\n",
      " 0.84836703 0.         0.99611198 0.49533437 0.88569207 0.57465008\n",
      " 0.36131971 0.02968395 0.07429662 0.25288935 0.03981625]\n"
     ]
    }
   ],
   "source": [
    "# Perform unsupervised learning on df2 with k-means \n",
    "# You can use whole df2 as both training and testing data, \n",
    "# Evaluate the clustering result using Accuracy.  \n",
    "from pyspark.ml.clustering import KMeans\n",
    "from pyspark.ml.evaluation import ClusteringEvaluator\n",
    "from pyspark.ml.evaluation import MulticlassClassificationEvaluator\n",
    "from pyspark.ml.evaluation import BinaryClassificationEvaluator \n",
    "\n",
    "\n",
    "kmeans = KMeans(featuresCol = 'scaledFeatures').setK(2).setSeed(1)   # using 2 clusters\n",
    "model = kmeans.fit(scaledData)\n",
    "\n",
    "# Make predictions\n",
    "predictions = model.transform(scaledData)\n",
    "\n",
    "# Evaluate clustering by computing Silhouette score\n",
    "evaluator = ClusteringEvaluator()\n",
    "\n",
    "silhouette = evaluator.evaluate(predictions)\n",
    "print(\"Silhouette with squared euclidean distance = \" + str(silhouette))\n",
    "\n",
    "######evaluator1 = BinaryClassificationEvaluator(rawPredictionCol='prediction')\n",
    "######print('Test Area Under ROC', evaluator1.evaluate(predictions))\n",
    "\n",
    "# Shows the result.\n",
    "centers = model.clusterCenters()\n",
    "print(\"Cluster Centers: \")\n",
    "for center in centers:\n",
    "    print(center)\n",
    "                                           "
   ]
  },
  {
   "cell_type": "code",
   "execution_count": 190,
   "metadata": {
    "colab": {
     "base_uri": "https://localhost:8080/",
     "height": 34
    },
    "colab_type": "code",
    "executionInfo": {
     "elapsed": 45632,
     "status": "ok",
     "timestamp": 1558165713881,
     "user": {
      "displayName": "Harshdeep Singh Narang",
      "photoUrl": "https://lh3.googleusercontent.com/-n0FPXsYVIPE/AAAAAAAAAAI/AAAAAAAAAEA/WWRjwrU8zCo/s64/photo.jpg",
      "userId": "01270657667223360375"
     },
     "user_tz": -600
    },
    "id": "9ABuCMflaKGp",
    "outputId": "f31a60b4-146f-4403-87bf-fc0a7129e22a"
   },
   "outputs": [
    {
     "name": "stdout",
     "output_type": "stream",
     "text": [
      "Accuracy: 0.520861989912884\n"
     ]
    }
   ],
   "source": [
    "# As we know the ground truth we can calculate the accuracy of Kmeans using MulticlassificationEvaluator\n",
    "\n",
    "Prediction = predictions.select(\"prediction\").rdd.map(lambda row: float(row.prediction)).collect()  # reformatting the data type of predictions as double so that accuracy can be calcuate\n",
    "Labels = predictions.select(\"label\").rdd.map(lambda row: row.label).collect()\n",
    "\n",
    "\n",
    "pred_kmeans = sqlContext.createDataFrame(zip(Labels,Prediction), schema=['label', 'prediction']) # dataframe with predictions and labels of double data type\n",
    "\n",
    "evaluator = MulticlassClassificationEvaluator(labelCol=\"label\",predictionCol=\"prediction\")\n",
    "print('Accuracy:', evaluator.evaluate(pred_kmeans, {evaluator.metricName: \"accuracy\"}))\n",
    "\n"
   ]
  },
  {
   "cell_type": "markdown",
   "metadata": {
    "colab_type": "text",
    "id": "EB40fBWWfK7x"
   },
   "source": [
    "The clustering accuracy is not good. As we know the ground truth we can use supervised learning algotrithms which may show higher accuracy.\n",
    "The Kmeans accuracy also depends on the number of features (dimentionality). The higher the dimentionality, the less accurate kmeans will  be.\n",
    "Dimentionality reduction can be performed through PCA (Principal Component Analysis).\n"
   ]
  },
  {
   "cell_type": "markdown",
   "metadata": {
    "colab_type": "text",
    "id": "FHom8o2KCt36"
   },
   "source": [
    "## 4.2 PCA"
   ]
  },
  {
   "cell_type": "code",
   "execution_count": 191,
   "metadata": {
    "colab": {
     "base_uri": "https://localhost:8080/",
     "height": 306
    },
    "colab_type": "code",
    "executionInfo": {
     "elapsed": 46291,
     "status": "ok",
     "timestamp": 1558165714557,
     "user": {
      "displayName": "Harshdeep Singh Narang",
      "photoUrl": "https://lh3.googleusercontent.com/-n0FPXsYVIPE/AAAAAAAAAAI/AAAAAAAAAEA/WWRjwrU8zCo/s64/photo.jpg",
      "userId": "01270657667223360375"
     },
     "user_tz": -600
    },
    "id": "wT4cx5uGTjmj",
    "outputId": "ffa98339-5d38-4285-8d86-17a5faeb6804"
   },
   "outputs": [
    {
     "name": "stdout",
     "output_type": "stream",
     "text": [
      "+-----------------------------------------+\n",
      "|pcaFeatures                              |\n",
      "+-----------------------------------------+\n",
      "|[0.9636424850516068,0.3313811478935345]  |\n",
      "|[0.8373410183626885,0.3880024159205323]  |\n",
      "|[-0.10845002652578276,0.6564023408615134]|\n",
      "|[-0.479560942670008,1.1082617061107987]  |\n",
      "|[0.9576794865061756,0.2714643678687506]  |\n",
      "|[0.7879027918969023,0.5145147352059565]  |\n",
      "|[0.5124304692668866,-0.1917648708243116] |\n",
      "|[-0.7369547765884317,1.0356901001261056] |\n",
      "|[-0.10282606527163515,0.671822806010155] |\n",
      "|[1.0661514594145962,0.3285042864447201]  |\n",
      "+-----------------------------------------+\n",
      "only showing top 10 rows\n",
      "\n",
      "variance explained by first 2 principal components is  0.4127855508907272\n"
     ]
    }
   ],
   "source": [
    "# Applying PCA to two principal components\n",
    "from pyspark.ml.feature import PCA\n",
    "from pyspark.ml.linalg import Vectors\n",
    "\n",
    "pca = PCA(k=2, inputCol=\"scaledFeatures\", outputCol=\"pcaFeatures\")\n",
    "model = pca.fit(scaledData)\n",
    "\n",
    "result = model.transform(scaledData).select(\"pcaFeatures\")\n",
    "result.show(10,truncate=False)\n",
    "\n",
    "print('variance explained by first 2 principal components is ',sum(model.explainedVariance))"
   ]
  },
  {
   "cell_type": "markdown",
   "metadata": {
    "colab_type": "text",
    "id": "0PVkapLygYg0"
   },
   "source": [
    "Only 41 percent of the variance is explained by first two principal components."
   ]
  },
  {
   "cell_type": "code",
   "execution_count": 192,
   "metadata": {
    "colab": {
     "base_uri": "https://localhost:8080/",
     "height": 283
    },
    "colab_type": "code",
    "executionInfo": {
     "elapsed": 47409,
     "status": "ok",
     "timestamp": 1558165715691,
     "user": {
      "displayName": "Harshdeep Singh Narang",
      "photoUrl": "https://lh3.googleusercontent.com/-n0FPXsYVIPE/AAAAAAAAAAI/AAAAAAAAAEA/WWRjwrU8zCo/s64/photo.jpg",
      "userId": "01270657667223360375"
     },
     "user_tz": -600
    },
    "id": "qRRu7PRAy0wH",
    "outputId": "461e9472-1375-436c-a410-e36e23acd50e"
   },
   "outputs": [
    {
     "data": {
      "image/png": "[encoded data removed]",
      "text/plain": [
       "<Figure size 432x288 with 1 Axes>"
      ]
     },
     "metadata": {
      "tags": []
     },
     "output_type": "display_data"
    }
   ],
   "source": [
    "#Generate a scatter plot using the first two PCA components to investigate the data distribution.\n",
    "import matplotlib.pyplot as plt\n",
    "import numpy as np\n",
    "\n",
    "result_list= result.rdd.map(lambda row: [row[0][0], row[0][1]]).collect()\n",
    "\n",
    "result_array=np.array(result_list)\n",
    "\n",
    "x,y=zip(*result_array)\n",
    "\n",
    "\n",
    "plt.scatter(x,y)\n",
    "plt.xlabel('PC1')\n",
    "plt.ylabel('PC2')\n",
    "plt.show()"
   ]
  },
  {
   "cell_type": "markdown",
   "metadata": {
    "colab_type": "text",
    "id": "ulp_uILXCv4Z"
   },
   "source": [
    "# 5.Supervised learning"
   ]
  },
  {
   "cell_type": "code",
   "execution_count": 193,
   "metadata": {
    "colab": {
     "base_uri": "https://localhost:8080/",
     "height": 51
    },
    "colab_type": "code",
    "executionInfo": {
     "elapsed": 47711,
     "status": "ok",
     "timestamp": 1558165716010,
     "user": {
      "displayName": "Harshdeep Singh Narang",
      "photoUrl": "https://lh3.googleusercontent.com/-n0FPXsYVIPE/AAAAAAAAAAI/AAAAAAAAAEA/WWRjwrU8zCo/s64/photo.jpg",
      "userId": "01270657667223360375"
     },
     "user_tz": -600
    },
    "id": "0O7tszcPfnHN",
    "outputId": "3eb75a0b-0c0b-4661-f055-019ed32f3a74"
   },
   "outputs": [
    {
     "name": "stdout",
     "output_type": "stream",
     "text": [
      "Training Dataset Count: 1535\n",
      "Test Dataset Count: 646\n"
     ]
    }
   ],
   "source": [
    "#splitting the data into test and training set\n",
    "train, test = scaledData.randomSplit([0.7, 0.3], seed = 742)\n",
    "print(\"Training Dataset Count: \" + str(train.count()))\n",
    "print(\"Test Dataset Count: \" + str(test.count()))"
   ]
  },
  {
   "cell_type": "markdown",
   "metadata": {
    "colab_type": "text",
    "id": "2SsHdh7YC-eN"
   },
   "source": [
    "## 5.1 LogisticRegression"
   ]
  },
  {
   "cell_type": "code",
   "execution_count": 0,
   "metadata": {
    "colab": {},
    "colab_type": "code",
    "id": "Vqo_ywFQYxSj"
   },
   "outputs": [],
   "source": [
    "# Logistic Regression\n",
    "from pyspark.ml.classification import LogisticRegression\n",
    "from pyspark.ml.evaluation import MulticlassClassificationEvaluator\n",
    "from pyspark.ml.evaluation import BinaryClassificationEvaluator \n",
    "\n",
    "lr = LogisticRegression(featuresCol = 'scaledFeatures', labelCol = 'label', maxIter=10)\n",
    "lrModel = lr.fit(train)"
   ]
  },
  {
   "cell_type": "code",
   "execution_count": 195,
   "metadata": {
    "colab": {
     "base_uri": "https://localhost:8080/",
     "height": 426
    },
    "colab_type": "code",
    "executionInfo": {
     "elapsed": 49397,
     "status": "ok",
     "timestamp": 1558165717719,
     "user": {
      "displayName": "Harshdeep Singh Narang",
      "photoUrl": "https://lh3.googleusercontent.com/-n0FPXsYVIPE/AAAAAAAAAAI/AAAAAAAAAEA/WWRjwrU8zCo/s64/photo.jpg",
      "userId": "01270657667223360375"
     },
     "user_tz": -600
    },
    "id": "hANwFUzhgG83",
    "outputId": "f3624966-b35a-4077-b346-2a43878dd02c"
   },
   "outputs": [
    {
     "data": {
      "image/png": "[encoded data removed]",
      "text/plain": [
       "<Figure size 432x288 with 1 Axes>"
      ]
     },
     "metadata": {
      "tags": []
     },
     "output_type": "display_data"
    },
    {
     "data": {
      "text/plain": [
       "DenseVector([-0.0814, 0.2041, -0.0063, 0.3736, -0.3783, 0.1603, -0.7777, -1.1301, 0.0955, 1.0417, -0.061, -0.1879, 0.1702, -0.3774, -0.6865, -0.6468, -0.262, 2.1844, 0.1051, -2.7069, 2.2922, -0.7105, -1.9948])"
      ]
     },
     "execution_count": 195,
     "metadata": {
      "tags": []
     },
     "output_type": "execute_result"
    }
   ],
   "source": [
    "#Exam the coefficients\n",
    "import matplotlib.pyplot as plt\n",
    "import numpy as np\n",
    "\n",
    "beta = (lrModel.coefficients)\n",
    "x=[1,2,3,4,5,6,7,8,9,10,11,12,13,14,15,16,17,18,19,20,21,22,23]\n",
    "f=['Job = management','Job = Technician','Job = admin','Job = Blue-collar','Job = retired','Job = services',\n",
    "   'Job = student','Job = unemployed','Job = self employed','Job= entrepreneur','Marital = Married','Marital = Single','education = secondary'\n",
    "   ,'education = Tertiary','default = no','housing = no','loan = no','Poutcome = failure','age','balance','campaign','pdays','previous']\n",
    "\n",
    "plt.plot(x,beta,'-o')\n",
    "plt.xticks(x, f, rotation='vertical')\n",
    "plt.ylabel('Beta Coefficients')\n",
    "plt.xlabel('Features')\n",
    "plt.axhline(0, color='black')\n",
    "\n",
    "plt.show()\n",
    "\n",
    "lrModel.coefficients"
   ]
  },
  {
   "cell_type": "code",
   "execution_count": 196,
   "metadata": {
    "colab": {
     "base_uri": "https://localhost:8080/",
     "height": 309
    },
    "colab_type": "code",
    "executionInfo": {
     "elapsed": 49723,
     "status": "ok",
     "timestamp": 1558165718088,
     "user": {
      "displayName": "Harshdeep Singh Narang",
      "photoUrl": "https://lh3.googleusercontent.com/-n0FPXsYVIPE/AAAAAAAAAAI/AAAAAAAAAEA/WWRjwrU8zCo/s64/photo.jpg",
      "userId": "01270657667223360375"
     },
     "user_tz": -600
    },
    "id": "Ip8dpIIvWTq_",
    "outputId": "be7656ac-50db-4d94-e2b7-0d78eb0fd6ae"
   },
   "outputs": [
    {
     "name": "stdout",
     "output_type": "stream",
     "text": [
      "+-----+--------------------+---+----------+-------+---------+-------+-------+-------+----+--------+-----+--------+--------+-------+--------------------+--------------------+--------------------+----------+\n",
      "|label|            features|age|       job|marital|education|default|balance|housing|loan|campaign|pdays|previous|poutcome|deposit|      scaledFeatures|       rawPrediction|         probability|prediction|\n",
      "+-----+--------------------+---+----------+-------+---------+-------+-------+-------+----+--------+-----+--------+--------+-------+--------------------+--------------------+--------------------+----------+\n",
      "|  0.0|(23,[0,10,12,14,1...| 29|management|married|secondary|     no|    231|     no|  no|       1|   14|       1| failure|    yes|[1.0,0.0,0.0,0.0,...|[0.20581400401594...|[0.55127263878287...|       0.0|\n",
      "|  0.0|(23,[0,10,12,14,1...| 52|management|married|secondary|     no|    335|     no|  no|       1|  182|       1| failure|    yes|[1.0,0.0,0.0,0.0,...|[0.31464400007368...|[0.57801840224098...|       0.0|\n",
      "|  0.0|(23,[0,10,12,14,1...| 48|management|married|secondary|     no|   2892|     no|  no|       1|  385|       1| success|    yes|[1.0,0.0,0.0,0.0,...|[2.75843511433406...|[0.94038796941248...|       0.0|\n",
      "|  0.0|(23,[0,10,12,14,1...| 33|management|married|secondary|     no|   3935|    yes|  no|       1|  342|       2| failure|    yes|[1.0,0.0,0.0,0.0,...|[-0.0148119354374...|[0.49629708384002...|       1.0|\n",
      "|  0.0|(23,[0,10,12,14,1...| 48|management|married|secondary|     no|   4415|    yes|  no|       3|  141|       7| failure|    yes|[1.0,0.0,0.0,0.0,...|[-0.4210045818029...|[0.39627638754076...|       1.0|\n",
      "|  0.0|(23,[0,10,12,14,1...| 49|management|married|secondary|     no|     99|    yes|  no|       2|  343|       1| failure|    yes|[1.0,0.0,0.0,0.0,...|[-0.4097384848671...|[0.39897482923205...|       1.0|\n",
      "|  0.0|(23,[0,10,13,14,1...| 31|management|married| tertiary|     no|   6138|     no|  no|       2|  119|       5| failure|    yes|[1.0,0.0,0.0,0.0,...|[0.97185596686588...|[0.72548927674934...|       0.0|\n",
      "|  0.0|(23,[0,10,13,14,1...| 32|management|married| tertiary|     no|   1331|     no|  no|       1|   92|       5| failure|    yes|[1.0,0.0,0.0,0.0,...|[0.99783494329516...|[0.73063268975904...|       0.0|\n",
      "|  0.0|(23,[0,10,13,14,1...| 33|management|married| tertiary|     no|     55|     no|  no|       2|   87|       3| failure|    yes|[1.0,0.0,0.0,0.0,...|[0.66785620582997...|[0.66102296174890...|       0.0|\n",
      "|  0.0|(23,[0,10,13,14,1...| 34|management|married| tertiary|     no|   8000|     no|  no|       1|  260|       2| failure|    yes|[1.0,0.0,0.0,0.0,...|[1.24372136375727...|[0.77621110717051...|       0.0|\n",
      "+-----+--------------------+---+----------+-------+---------+-------+-------+-------+----+--------+-----+--------+--------+-------+--------------------+--------------------+--------------------+----------+\n",
      "only showing top 10 rows\n",
      "\n"
     ]
    }
   ],
   "source": [
    "predictions = lrModel.transform(test)\n",
    "predictions.show(10)"
   ]
  },
  {
   "cell_type": "code",
   "execution_count": 197,
   "metadata": {
    "colab": {
     "base_uri": "https://localhost:8080/",
     "height": 34
    },
    "colab_type": "code",
    "executionInfo": {
     "elapsed": 50173,
     "status": "ok",
     "timestamp": 1558165718571,
     "user": {
      "displayName": "Harshdeep Singh Narang",
      "photoUrl": "https://lh3.googleusercontent.com/-n0FPXsYVIPE/AAAAAAAAAAI/AAAAAAAAAEA/WWRjwrU8zCo/s64/photo.jpg",
      "userId": "01270657667223360375"
     },
     "user_tz": -600
    },
    "id": "d11jkJy7Wy6o",
    "outputId": "428617a6-885b-442c-d217-d97c5266b72d"
   },
   "outputs": [
    {
     "name": "stdout",
     "output_type": "stream",
     "text": [
      "Accuracy: 0.7368421052631579\n"
     ]
    }
   ],
   "source": [
    "# Evaluating the accuracy of logistic regression\n",
    "evaluator = MulticlassClassificationEvaluator(labelCol=\"label\",predictionCol=\"prediction\")\n",
    "print('Accuracy:', evaluator.evaluate(predictions, {evaluator.metricName: \"accuracy\"}))\n",
    "\n"
   ]
  },
  {
   "cell_type": "markdown",
   "metadata": {
    "colab_type": "text",
    "id": "evM5eiJoDHw2"
   },
   "source": [
    "## 5.2 Decision tree"
   ]
  },
  {
   "cell_type": "code",
   "execution_count": 198,
   "metadata": {
    "colab": {
     "base_uri": "https://localhost:8080/",
     "height": 309
    },
    "colab_type": "code",
    "executionInfo": {
     "elapsed": 52053,
     "status": "ok",
     "timestamp": 1558165720485,
     "user": {
      "displayName": "Harshdeep Singh Narang",
      "photoUrl": "https://lh3.googleusercontent.com/-n0FPXsYVIPE/AAAAAAAAAAI/AAAAAAAAAEA/WWRjwrU8zCo/s64/photo.jpg",
      "userId": "01270657667223360375"
     },
     "user_tz": -600
    },
    "id": "He4mlHb7hBoY",
    "outputId": "f673496d-666e-4938-c291-4d377822fed2"
   },
   "outputs": [
    {
     "name": "stdout",
     "output_type": "stream",
     "text": [
      "+-----+--------------------+---+----------+-------+---------+-------+-------+-------+----+--------+-----+--------+--------+-------+--------------------+-------------+--------------------+----------+\n",
      "|label|            features|age|       job|marital|education|default|balance|housing|loan|campaign|pdays|previous|poutcome|deposit|      scaledFeatures|rawPrediction|         probability|prediction|\n",
      "+-----+--------------------+---+----------+-------+---------+-------+-------+-------+----+--------+-----+--------+--------+-------+--------------------+-------------+--------------------+----------+\n",
      "|  0.0|(23,[0,10,12,14,1...| 29|management|married|secondary|     no|    231|     no|  no|       1|   14|       1| failure|    yes|[1.0,0.0,0.0,0.0,...|[217.0,119.0]|[0.64583333333333...|       0.0|\n",
      "|  0.0|(23,[0,10,12,14,1...| 52|management|married|secondary|     no|    335|     no|  no|       1|  182|       1| failure|    yes|[1.0,0.0,0.0,0.0,...|[217.0,119.0]|[0.64583333333333...|       0.0|\n",
      "|  0.0|(23,[0,10,12,14,1...| 48|management|married|secondary|     no|   2892|     no|  no|       1|  385|       1| success|    yes|[1.0,0.0,0.0,0.0,...| [631.0,54.0]|[0.92116788321167...|       0.0|\n",
      "|  0.0|(23,[0,10,12,14,1...| 33|management|married|secondary|     no|   3935|    yes|  no|       1|  342|       2| failure|    yes|[1.0,0.0,0.0,0.0,...|[177.0,300.0]|[0.37106918238993...|       1.0|\n",
      "|  0.0|(23,[0,10,12,14,1...| 48|management|married|secondary|     no|   4415|    yes|  no|       3|  141|       7| failure|    yes|[1.0,0.0,0.0,0.0,...|[177.0,300.0]|[0.37106918238993...|       1.0|\n",
      "|  0.0|(23,[0,10,12,14,1...| 49|management|married|secondary|     no|     99|    yes|  no|       2|  343|       1| failure|    yes|[1.0,0.0,0.0,0.0,...|[177.0,300.0]|[0.37106918238993...|       1.0|\n",
      "|  0.0|(23,[0,10,13,14,1...| 31|management|married| tertiary|     no|   6138|     no|  no|       2|  119|       5| failure|    yes|[1.0,0.0,0.0,0.0,...|[217.0,119.0]|[0.64583333333333...|       0.0|\n",
      "|  0.0|(23,[0,10,13,14,1...| 32|management|married| tertiary|     no|   1331|     no|  no|       1|   92|       5| failure|    yes|[1.0,0.0,0.0,0.0,...|[217.0,119.0]|[0.64583333333333...|       0.0|\n",
      "|  0.0|(23,[0,10,13,14,1...| 33|management|married| tertiary|     no|     55|     no|  no|       2|   87|       3| failure|    yes|[1.0,0.0,0.0,0.0,...|[217.0,119.0]|[0.64583333333333...|       0.0|\n",
      "|  0.0|(23,[0,10,13,14,1...| 34|management|married| tertiary|     no|   8000|     no|  no|       1|  260|       2| failure|    yes|[1.0,0.0,0.0,0.0,...|[217.0,119.0]|[0.64583333333333...|       0.0|\n",
      "+-----+--------------------+---+----------+-------+---------+-------+-------+-------+----+--------+-----+--------+--------+-------+--------------------+-------------+--------------------+----------+\n",
      "only showing top 10 rows\n",
      "\n"
     ]
    }
   ],
   "source": [
    "#Decision tree\n",
    "from pyspark.ml.classification import DecisionTreeClassifier \n",
    "\n",
    "dt = DecisionTreeClassifier(featuresCol = 'scaledFeatures', labelCol = 'label', maxDepth = 3)\n",
    "dtModel = dt.fit(train)\n",
    "predictions = dtModel.transform(test)\n",
    "predictions.show(10)"
   ]
  },
  {
   "cell_type": "code",
   "execution_count": 199,
   "metadata": {
    "colab": {
     "base_uri": "https://localhost:8080/",
     "height": 34
    },
    "colab_type": "code",
    "executionInfo": {
     "elapsed": 52367,
     "status": "ok",
     "timestamp": 1558165720823,
     "user": {
      "displayName": "Harshdeep Singh Narang",
      "photoUrl": "https://lh3.googleusercontent.com/-n0FPXsYVIPE/AAAAAAAAAAI/AAAAAAAAAEA/WWRjwrU8zCo/s64/photo.jpg",
      "userId": "01270657667223360375"
     },
     "user_tz": -600
    },
    "id": "UMSKQtLbXlsg",
    "outputId": "d85702bc-2947-46c2-f383-ac48a3faf3dd"
   },
   "outputs": [
    {
     "name": "stdout",
     "output_type": "stream",
     "text": [
      "Accuracy: 0.7770897832817337\n"
     ]
    }
   ],
   "source": [
    "# Evaluating the accuracy of Decision Tree\n",
    "evaluator = MulticlassClassificationEvaluator(labelCol=\"label\",predictionCol=\"prediction\")\n",
    "print(\"Accuracy: \" + str(evaluator.evaluate(predictions, {evaluator.metricName: \"accuracy\"})))\n",
    "\n"
   ]
  },
  {
   "cell_type": "markdown",
   "metadata": {
    "colab_type": "text",
    "id": "CaE-Z_IlDKXF"
   },
   "source": [
    "## 5.3 NaiveBayes"
   ]
  },
  {
   "cell_type": "code",
   "execution_count": 200,
   "metadata": {
    "colab": {
     "base_uri": "https://localhost:8080/",
     "height": 309
    },
    "colab_type": "code",
    "executionInfo": {
     "elapsed": 53922,
     "status": "ok",
     "timestamp": 1558165722403,
     "user": {
      "displayName": "Harshdeep Singh Narang",
      "photoUrl": "https://lh3.googleusercontent.com/-n0FPXsYVIPE/AAAAAAAAAAI/AAAAAAAAAEA/WWRjwrU8zCo/s64/photo.jpg",
      "userId": "01270657667223360375"
     },
     "user_tz": -600
    },
    "id": "v2XL6I0t7irt",
    "outputId": "5be8577c-6686-45b3-f96c-9499cd4215f7"
   },
   "outputs": [
    {
     "name": "stdout",
     "output_type": "stream",
     "text": [
      "+-----+--------------------+---+----------+-------+---------+-------+-------+-------+----+--------+-----+--------+--------+-------+--------------------+--------------------+--------------------+----------+\n",
      "|label|            features|age|       job|marital|education|default|balance|housing|loan|campaign|pdays|previous|poutcome|deposit|      scaledFeatures|       rawPrediction|         probability|prediction|\n",
      "+-----+--------------------+---+----------+-------+---------+-------+-------+-------+----+--------+-----+--------+--------+-------+--------------------+--------------------+--------------------+----------+\n",
      "|  0.0|(23,[0,10,12,14,1...| 29|management|married|secondary|     no|    231|     no|  no|       1|   14|       1| failure|    yes|[1.0,0.0,0.0,0.0,...|[-18.099423060967...|[0.71479969025784...|       0.0|\n",
      "|  0.0|(23,[0,10,12,14,1...| 52|management|married|secondary|     no|    335|     no|  no|       1|  182|       1| failure|    yes|[1.0,0.0,0.0,0.0,...|[-19.734874367002...|[0.71241655363917...|       0.0|\n",
      "|  0.0|(23,[0,10,12,14,1...| 48|management|married|secondary|     no|   2892|     no|  no|       1|  385|       1| success|    yes|[1.0,0.0,0.0,0.0,...|[-17.739083418637...|[0.83907706761111...|       0.0|\n",
      "|  0.0|(23,[0,10,12,14,1...| 33|management|married|secondary|     no|   3935|    yes|  no|       1|  342|       2| failure|    yes|[1.0,0.0,0.0,0.0,...|[-17.613712853360...|[0.53910788436275...|       0.0|\n",
      "|  0.0|(23,[0,10,12,14,1...| 48|management|married|secondary|     no|   4415|    yes|  no|       3|  141|       7| failure|    yes|[1.0,0.0,0.0,0.0,...|[-18.764334307940...|[0.53925399923964...|       0.0|\n",
      "|  0.0|(23,[0,10,12,14,1...| 49|management|married|secondary|     no|     99|    yes|  no|       2|  343|       1| failure|    yes|[1.0,0.0,0.0,0.0,...|[-18.360821086663...|[0.53327534457948...|       0.0|\n",
      "|  0.0|(23,[0,10,13,14,1...| 31|management|married| tertiary|     no|   6138|     no|  no|       2|  119|       5| failure|    yes|[1.0,0.0,0.0,0.0,...|[-19.810477562475...|[0.83405743649553...|       0.0|\n",
      "|  0.0|(23,[0,10,13,14,1...| 32|management|married| tertiary|     no|   1331|     no|  no|       1|   92|       5| failure|    yes|[1.0,0.0,0.0,0.0,...|[-19.027789035675...|[0.83769169387408...|       0.0|\n",
      "|  0.0|(23,[0,10,13,14,1...| 33|management|married| tertiary|     no|     55|     no|  no|       2|   87|       3| failure|    yes|[1.0,0.0,0.0,0.0,...|[-19.193148913684...|[0.83323098523096...|       0.0|\n",
      "|  0.0|(23,[0,10,13,14,1...| 34|management|married| tertiary|     no|   8000|     no|  no|       1|  260|       2| failure|    yes|[1.0,0.0,0.0,0.0,...|[-19.921365567025...|[0.83501712379445...|       0.0|\n",
      "+-----+--------------------+---+----------+-------+---------+-------+-------+-------+----+--------+-----+--------+--------+-------+--------------------+--------------------+--------------------+----------+\n",
      "only showing top 10 rows\n",
      "\n"
     ]
    }
   ],
   "source": [
    "#NaiveBayes\n",
    "from pyspark.ml.classification import NaiveBayes\n",
    "from pyspark.ml.evaluation import MulticlassClassificationEvaluator\n",
    "\n",
    "nb = NaiveBayes(smoothing=1,featuresCol = 'scaledFeatures', labelCol = 'label')\n",
    "model = nb.fit(train)\n",
    "\n",
    "predictions = model.transform(test)\n",
    "predictions.show(10)"
   ]
  },
  {
   "cell_type": "code",
   "execution_count": 201,
   "metadata": {
    "colab": {
     "base_uri": "https://localhost:8080/",
     "height": 34
    },
    "colab_type": "code",
    "executionInfo": {
     "elapsed": 54263,
     "status": "ok",
     "timestamp": 1558165722761,
     "user": {
      "displayName": "Harshdeep Singh Narang",
      "photoUrl": "https://lh3.googleusercontent.com/-n0FPXsYVIPE/AAAAAAAAAAI/AAAAAAAAAEA/WWRjwrU8zCo/s64/photo.jpg",
      "userId": "01270657667223360375"
     },
     "user_tz": -600
    },
    "id": "ijerjuM5Trjo",
    "outputId": "5db49f49-e22b-4d9a-9a5c-e31b3933a1b8"
   },
   "outputs": [
    {
     "name": "stdout",
     "output_type": "stream",
     "text": [
      "Accuracy: 0.7291021671826625\n"
     ]
    }
   ],
   "source": [
    "# Evaluating the accuracy of NaiveBayes\n",
    "evaluator = MulticlassClassificationEvaluator(labelCol=\"label\",predictionCol=\"prediction\")\n",
    "print(\"Accuracy:\",evaluator.evaluate(predictions, {evaluator.metricName: \"accuracy\"}))"
   ]
  },
  {
   "cell_type": "code",
   "execution_count": 0,
   "metadata": {
    "colab": {},
    "colab_type": "code",
    "id": "ZDZLWK31Y38X"
   },
   "outputs": [],
   "source": []
  }
 ],
 "metadata": {
  "colab": {
   "collapsed_sections": [],
   "name": "MDS_Assignment2.ipynb",
   "provenance": [
    {
     "file_id": "https://github.com/tulip-lab/sit742/blob/master/Assessment/2019/SIT742Task2.ipynb",
     "timestamp": 1556180947836
    }
   ],
   "version": "0.3.2"
  },
  "kernelspec": {
   "display_name": "streamlit",
   "language": "python",
   "name": "streamlit"
  },
  "language_info": {
   "codemirror_mode": {
    "name": "ipython",
    "version": 3
   },
   "file_extension": ".py",
   "mimetype": "text/x-python",
   "name": "python",
   "nbconvert_exporter": "python",
   "pygments_lexer": "ipython3",
   "version": "3.6.9"
  }
 },
 "nbformat": 4,
 "nbformat_minor": 1
}
